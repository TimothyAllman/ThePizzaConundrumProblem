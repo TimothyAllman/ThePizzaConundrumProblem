{
 "cells": [
  {
   "cell_type": "markdown",
   "metadata": {},
   "source": [
    "# InstallMe/ first steps to set up and run the project\n",
    "We use uv for package management and dependecy resolution.\n",
    "So in order to run the project you will need to install it\n",
    "We could (it is recommended) to install it globablly via the below shell script\n",
    "\n",
    "```\n",
    "```\n",
    "found at \n",
    "\n",
    "But for now we will install it via pip \n",
    "\n"
   ]
  },
  {
   "cell_type": "code",
   "execution_count": 1,
   "metadata": {},
   "outputs": [
    {
     "name": "stdout",
     "output_type": "stream",
     "text": [
      "Microsoft Windows [Version 10.0.19045.4780]\n",
      "(c) Microsoft Corporation. All rights reserved.\n",
      "\n",
      "(.venv) d:\\CompSci\\Github\\ThePizzaConundrumProblem>pip install uv\n",
      "Collecting uv\n",
      "  Downloading uv-0.5.14-py3-none-win_amd64.whl.metadata (11 kB)\n",
      "Downloading uv-0.5.14-py3-none-win_amd64.whl (16.0 MB)\n",
      "   ---------------------------------------- 16.0/16.0 MB 1.7 MB/s eta 0:00:00\n",
      "Installing collected packages: uv\n",
      "Successfully installed uv-0.5.14\n",
      "\n",
      "(.venv) d:\\CompSci\\Github\\ThePizzaConundrumProblem>"
     ]
    }
   ],
   "source": [
    "%%cmd\n",
    "pip install uv"
   ]
  },
  {
   "cell_type": "markdown",
   "metadata": {},
   "source": [
    "After this the only command we will really need is `uv sync`.\n",
    "This will fine the `.venv` (if it doesn't exist it will create one) and make sure the depdencies/packages specified in the `pyproject.toml` are resolved and locked via creating a `uv.lock` file and then installed into the `.venv`"
   ]
  },
  {
   "cell_type": "code",
   "execution_count": 5,
   "metadata": {},
   "outputs": [
    {
     "name": "stdout",
     "output_type": "stream",
     "text": [
      "Microsoft Windows [Version 10.0.19045.5247]\n",
      "(c) Microsoft Corporation. All rights reserved.\n",
      "\n",
      "(.venv) d:\\CompSci\\Github\\ThePizzaConundrumProblem>uv sync\n"
     ]
    },
    {
     "name": "stderr",
     "output_type": "stream",
     "text": [
      "\u001b[2mResolved \u001b[1m45 packages\u001b[0m \u001b[2min 3.10s\u001b[0m\u001b[0m\n",
      "\u001b[2mPrepared \u001b[1m8 packages\u001b[0m \u001b[2min 3.59s\u001b[0m\u001b[0m\n",
      "\u001b[2mUninstalled \u001b[1m1 package\u001b[0m \u001b[2min 87ms\u001b[0m\u001b[0m\n",
      "\u001b[1m\u001b[33mwarning\u001b[39m\u001b[0m\u001b[1m:\u001b[0m \u001b[1mFailed to hardlink files; falling back to full copy. This may lead to degraded performance.\n",
      "         If the cache and target directories are on different filesystems, hardlinking may not be supported.\n",
      "         If this is intentional, set `export UV_LINK_MODE=copy` or use `--link-mode=copy` to suppress this warning.\u001b[0m\n",
      "\u001b[2mInstalled \u001b[1m8 packages\u001b[0m \u001b[2min 3.93s\u001b[0m\u001b[0m\n",
      " \u001b[32m+\u001b[39m \u001b[1masttokens\u001b[0m\u001b[2m==3.0.0\u001b[0m\n",
      " \u001b[32m+\u001b[39m \u001b[1mcolorama\u001b[0m\u001b[2m==0.4.6\u001b[0m\n",
      " \u001b[32m+\u001b[39m \u001b[1mcomm\u001b[0m\u001b[2m==0.2.2\u001b[0m\n",
      " \u001b[32m+\u001b[39m \u001b[1miniconfig\u001b[0m\u001b[2m==2.0.0\u001b[0m\n",
      " \u001b[32m+\u001b[39m \u001b[1mpluggy\u001b[0m\u001b[2m==1.5.0\u001b[0m\n",
      " \u001b[32m+\u001b[39m \u001b[1mpytest\u001b[0m\u001b[2m==8.3.4\u001b[0m\n",
      " \u001b[31m-\u001b[39m \u001b[1mthepizzaconundrumproblem\u001b[0m\u001b[2m==0.1.0 (from file:///D:/CompSci/Github/ThePizzaConundrumProblem)\u001b[0m\n",
      " \u001b[32m+\u001b[39m \u001b[1mthepizzaconundrumproblem\u001b[0m\u001b[2m==0.0.0 (from file:///D:/CompSci/Github/ThePizzaConundrumProblem)\u001b[0m\n",
      " \u001b[32m+\u001b[39m \u001b[1mtomli\u001b[0m\u001b[2m==2.2.1\u001b[0m\n"
     ]
    },
    {
     "name": "stdout",
     "output_type": "stream",
     "text": [
      "\n",
      "(.venv) d:\\CompSci\\Github\\ThePizzaConundrumProblem>"
     ]
    }
   ],
   "source": [
    "%%cmd\n",
    "uv sync "
   ]
  },
  {
   "cell_type": "code",
   "execution_count": null,
   "metadata": {},
   "outputs": [],
   "source": []
  }
 ],
 "metadata": {
  "kernelspec": {
   "display_name": ".venv",
   "language": "python",
   "name": "python3"
  },
  "language_info": {
   "codemirror_mode": {
    "name": "ipython",
    "version": 3
   },
   "file_extension": ".py",
   "mimetype": "text/x-python",
   "name": "python",
   "nbconvert_exporter": "python",
   "pygments_lexer": "ipython3",
   "version": "3.10.11"
  }
 },
 "nbformat": 4,
 "nbformat_minor": 2
}
